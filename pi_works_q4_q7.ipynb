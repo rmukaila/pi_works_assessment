{
 "cells": [
  {
   "cell_type": "code",
   "execution_count": null,
   "id": "1e37ee2c",
   "metadata": {},
   "outputs": [],
   "source": [
    "import pandas as pd"
   ]
  },
  {
   "cell_type": "code",
   "execution_count": null,
   "id": "fcc46a25",
   "metadata": {},
   "outputs": [],
   "source": [
    "data_url = \"https://raw.githubusercontent.com/tarikkranda/pi_datasets/main/country_vaccination_stats.csv\"\n",
    "vaccination_df = pd.read_csv(\"PI_works_vaccinations.csv\")"
   ]
  },
  {
   "cell_type": "code",
   "execution_count": null,
   "id": "f1fef060",
   "metadata": {},
   "outputs": [],
   "source": [
    "vaccination_df.head()"
   ]
  },
  {
   "cell_type": "code",
   "execution_count": null,
   "id": "d34aa90e",
   "metadata": {},
   "outputs": [],
   "source": [
    "# vaccination_df[vaccination_df[\"country\"]==\"Austria\"].daily_vaccinations.min()"
   ]
  },
  {
   "cell_type": "code",
   "execution_count": null,
   "id": "02a848e7",
   "metadata": {},
   "outputs": [],
   "source": [
    "#Create a dataframe with minimun daily_vaccination per\n",
    "# relevant country and of same size as vaccination_df to be used\n",
    "#to fill the NA's of the daily_vaccination per country column\n",
    "min_df = vaccination_df.groupby('country')['daily_vaccinations'].transform('min')\n",
    "\n",
    "# min_df.head(30)"
   ]
  },
  {
   "cell_type": "code",
   "execution_count": null,
   "id": "1c9247af",
   "metadata": {},
   "outputs": [],
   "source": [
    "vaccination_df[\"daily_vaccinations\"]= vaccination_df[\"daily_vaccinations\"].fillna(min_df)"
   ]
  },
  {
   "cell_type": "code",
   "execution_count": null,
   "id": "8cd325d3",
   "metadata": {},
   "outputs": [],
   "source": [
    "vaccination_df.head()"
   ]
  },
  {
   "cell_type": "code",
   "execution_count": null,
   "id": "d096f3bd",
   "metadata": {},
   "outputs": [],
   "source": []
  }
 ],
 "metadata": {
  "kernelspec": {
   "display_name": "Python 3.8.5 64-bit ('base': conda)",
   "language": "python",
   "name": "python385jvsc74a57bd0cc0b39b73e6949057e82e0fccf6b8b6674bf387641e811617d69795976e90112"
  },
  "language_info": {
   "codemirror_mode": {
    "name": "ipython",
    "version": 3
   },
   "file_extension": ".py",
   "mimetype": "text/x-python",
   "name": "python",
   "nbconvert_exporter": "python",
   "pygments_lexer": "ipython3",
   "version": "3.8.5"
  }
 },
 "nbformat": 4,
 "nbformat_minor": 5
}
