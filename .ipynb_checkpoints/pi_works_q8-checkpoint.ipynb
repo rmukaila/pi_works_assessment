{
 "cells": [
  {
   "cell_type": "code",
   "execution_count": 1,
   "id": "f64c44a2",
   "metadata": {},
   "outputs": [],
   "source": [
    "#NOTE: THE FOLLOWING CODE IS FOR DISPLAY PURPOSE NOT MEANT TO BE RUN\n",
    "import sqlite3"
   ]
  },
  {
   "cell_type": "code",
   "execution_count": null,
   "id": "b69e69e0",
   "metadata": {},
   "outputs": [],
   "source": [
    "#Connect with the respective database\n",
    "connection = sqlite3.connect(\"DATABASE_NAME.db\")\n",
    "\n",
    "#Create a cursor object for handling queries\n",
    "myCursr = connection.cursor()"
   ]
  },
  {
   "cell_type": "code",
   "execution_count": null,
   "id": "996e2587",
   "metadata": {},
   "outputs": [],
   "source": [
    "myCursr.execute(\"SELECT Stats_Access_Link FROM table_name\")"
   ]
  },
  {
   "cell_type": "code",
   "execution_count": null,
   "id": "7832390b",
   "metadata": {},
   "outputs": [],
   "source": [
    "#Fetch all Urls into a list and extract pure ones by \n",
    "#slicing from the second foward slash\n",
    "#all the way to the index before index 6 from right end of the list\n",
    "\n",
    "urls = myCursr.fetchall()\n",
    "pure_url_list = []\n",
    "\n",
    "for record in urls:\n",
    "    pure_url_list.append(record[record.index('/')+2:-6])"
   ]
  }
 ],
 "metadata": {
  "kernelspec": {
   "display_name": "Python 3.8.5 64-bit ('base': conda)",
   "language": "python",
   "name": "python385jvsc74a57bd0cc0b39b73e6949057e82e0fccf6b8b6674bf387641e811617d69795976e90112"
  },
  "language_info": {
   "codemirror_mode": {
    "name": "ipython",
    "version": 3
   },
   "file_extension": ".py",
   "mimetype": "text/x-python",
   "name": "python",
   "nbconvert_exporter": "python",
   "pygments_lexer": "ipython3",
   "version": "3.8.5"
  }
 },
 "nbformat": 4,
 "nbformat_minor": 5
}
